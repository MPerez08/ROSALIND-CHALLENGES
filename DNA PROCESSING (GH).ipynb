{
 "cells": [
  {
   "cell_type": "code",
   "execution_count": null,
   "id": "e3a59c8a",
   "metadata": {},
   "outputs": [],
   "source": [
    "Nucleotides = [\"A\", \"T\", \"C\", \"G\"]\n",
    "DNA_ReverseComplement = {'A':'T', 'T':'A', 'C':'G', 'G':'C'}\n",
    "\n",
    "# Checking the sequence to make sure it is a DNA String\n",
    "def validateSeq(dna_seq):\n",
    "    tmpseq = dna_seq.upper()\n",
    "    for nuc in tmpseq:\n",
    "        if nuc not in Nucleotides:\n",
    "            return False\n",
    "    return tmpseq\n",
    "\n",
    "#Counting Nucleotides Version1\n",
    "def countNucFrequency(seq):\n",
    "    tmpFreqDict = {\"A\": 0, \"T\": 0, \"C\": 0, \"G\": 0}\n",
    "    for nuc in seq:\n",
    "        tmpFreqDict[nuc] += 1\n",
    "    return tmpFreqDict\n",
    "\n",
    "def transcription(seq):\n",
    "    \"\"\" DNA -> RNA Transcription, Replacing Thymine with Uracil\"\"\"\n",
    "    return seq.replace(\"T\", \"U\")\n",
    "\n",
    "\n",
    "def reverse_complement(seq):\n",
    "    \"\"\" Swapping adenine with thymine and guanine \n",
    "    with cytosine. Reversing newly generated string\"\"\"\n",
    "    return ''.join([DNA_ReverseComplement[nuc] for nuc in seq])[::-1]\n",
    "\n",
    "def gc_content(seq):\n",
    "    \"\"\"GC Content in a DNA/RNA sequence\"\"\"\n",
    "    return round((seq.count('C') + seq.count('G')) / len(seq) * 100)\n",
    "def gc_content_subsec(seq, k=20):\n",
    "    \"\"\"GC Content in a DNA/RNA sub-sequence length k. k=20 by default\"\"\"\n",
    "    res = []\n",
    "    for i in range(0, len(seq) - k + 1, k):\n",
    "        subseq = seq[i:i+k]\n",
    "        res.append(gc_content(subseq))\n",
    "    return res"
   ]
  }
 ],
 "metadata": {
  "kernelspec": {
   "display_name": "Python 3 (ipykernel)",
   "language": "python",
   "name": "python3"
  },
  "language_info": {
   "codemirror_mode": {
    "name": "ipython",
    "version": 3
   },
   "file_extension": ".py",
   "mimetype": "text/x-python",
   "name": "python",
   "nbconvert_exporter": "python",
   "pygments_lexer": "ipython3",
   "version": "3.9.12"
  }
 },
 "nbformat": 4,
 "nbformat_minor": 5
}
