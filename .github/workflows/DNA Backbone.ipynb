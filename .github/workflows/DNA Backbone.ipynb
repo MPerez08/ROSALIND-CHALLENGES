'''Processing DNA Strings'''

#Main Source List
Nucleotides = ["A", "T", "C", "G"]
DNA_ReverseComplement = {'A':'T', 'T':'A', 'C':'G', 'G':'C'}

# Checking the sequence to make sure it is a DNA String
def validateSeq(dna_seq):
    tmpseq = dna_seq.upper()
    for nuc in tmpseq:
        if nuc not in Nucleotides:
            return False
    return tmpseq

#Counting Nucleotides Version1
def countNucFrequency(seq):
    tmpFreqDict = {"A": 0, "T": 0, "C": 0, "G": 0}
    for nuc in seq:
        tmpFreqDict[nuc] += 1
    return tmpFreqDict

# DNA to RNA 
def transcription(seq):
    """ DNA -> RNA Transcription, Replacing Thymine with Uracil"""
    return seq.replace("T", "U")

#Creating a complementary Strand
def reverse_complement(seq):
    """ Swapping adenine with thymine and guanine 
    with cytosine. Reversing newly generated string"""
    return ''.join([DNA_ReverseComplement[nuc] for nuc in seq])[::-1]

#Counting GC Content
def gc_content(seq):
    """GC Content in a DNA/RNA sequence"""
    return round((seq.count('C') + seq.count('G')) / len(seq) * 100)

#Counting GC Content in short fragments
def gc_content_subsec(seq, k=20):
    """GC Content in a DNA/RNA sub-sequence length k. k=20 by default"""
    res = []
    for i in range(0, len(seq) - k + 1, k):
        subseq = seq[i:i+k]
        res.append(gc_content(subseq))
    return res
